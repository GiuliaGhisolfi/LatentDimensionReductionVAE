{
 "cells": [
  {
   "cell_type": "code",
   "execution_count": 1,
   "metadata": {},
   "outputs": [
    {
     "name": "stderr",
     "output_type": "stream",
     "text": [
      "c:\\Users\\giuli\\anaconda3\\lib\\site-packages\\pandas\\core\\arrays\\masked.py:60: UserWarning: Pandas requires version '1.3.6' or newer of 'bottleneck' (version '1.3.5' currently installed).\n",
      "  from pandas.core import (\n"
     ]
    }
   ],
   "source": [
    "from src.dataloader import Dataset\n",
    "from src.autoencoders.IPvae import IdentityPreservingVAE\n",
    "from sklearn.model_selection import train_test_split\n",
    "from src.utils import bce_loss, pixel_error_loss\n",
    "\n",
    "path = 'data/'\n",
    "scenario = 'no_obj'"
   ]
  },
  {
   "cell_type": "code",
   "execution_count": 2,
   "metadata": {},
   "outputs": [],
   "source": [
    "feature_set = Dataset(path, condition=scenario)\n",
    "X_train, Y_train, cX_train = feature_set.get_training_set()\n",
    "\n",
    "X_train, X_val, Y_train, Y_val, cX_train, cX_val = train_test_split(X_train, Y_train, cX_train, test_size=0.2, random_state=42)\n",
    "\n",
    "def tensor_to_numpy(tensor):\n",
    "    return tensor.cpu().detach().numpy()\n",
    "\n",
    "X_train, X_val, Y_train, Y_val, cX_train, cX_val = tensor_to_numpy(X_train), tensor_to_numpy(X_val\n",
    "    ), tensor_to_numpy(Y_train), tensor_to_numpy(Y_val), tensor_to_numpy(cX_train), tensor_to_numpy(cX_val)"
   ]
  },
  {
   "cell_type": "code",
   "execution_count": 3,
   "metadata": {},
   "outputs": [],
   "source": [
    "input_dim = X_train[0].shape\n",
    "latent_dim = 100\n",
    "conditions_dim = cX_train[0].shape[0]\n",
    "\n",
    "model = IdentityPreservingVAE(input_dim=input_dim, conditions_dim=conditions_dim, latent_dim=latent_dim, loss_function=bce_loss)"
   ]
  },
  {
   "cell_type": "code",
   "execution_count": 4,
   "metadata": {},
   "outputs": [
    {
     "name": "stdout",
     "output_type": "stream",
     "text": [
      "Epoch 1/2\n",
      "137/137 [==============================] - 60s 424ms/step - loss: 1.3481 - decoder_loss: 0.5291 - decoder_1_loss: 0.8190 - val_loss: 2.7936 - val_decoder_loss: 0.4201 - val_decoder_1_loss: 2.3735\n",
      "Epoch 2/2\n",
      "137/137 [==============================] - 78s 570ms/step - loss: 2.9559 - decoder_loss: 0.4087 - decoder_1_loss: 2.5472 - val_loss: 2.7798 - val_decoder_loss: 0.4063 - val_decoder_1_loss: 2.3735\n"
     ]
    }
   ],
   "source": [
    "model.train(X_train, cX_train, X_val, cX_val, epochs=2, batch_size=32)"
   ]
  }
 ],
 "metadata": {
  "kernelspec": {
   "display_name": "base",
   "language": "python",
   "name": "python3"
  },
  "language_info": {
   "codemirror_mode": {
    "name": "ipython",
    "version": 3
   },
   "file_extension": ".py",
   "mimetype": "text/x-python",
   "name": "python",
   "nbconvert_exporter": "python",
   "pygments_lexer": "ipython3",
   "version": "3.10.9"
  }
 },
 "nbformat": 4,
 "nbformat_minor": 2
}
