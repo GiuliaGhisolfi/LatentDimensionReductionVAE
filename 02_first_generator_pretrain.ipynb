{
 "cells": [
  {
   "cell_type": "code",
   "execution_count": null,
   "metadata": {},
   "outputs": [],
   "source": [
    "from src.generator import Generator\n",
    "from src.utils.utils import read_latent_vectors"
   ]
  },
  {
   "cell_type": "code",
   "execution_count": null,
   "metadata": {},
   "outputs": [],
   "source": [
    "X_train_z, _ = read_latent_vectors('predictions/z_vae_gray_scale_train.pkl')\n",
    "X_val_z, _ = read_latent_vectors('predictions/z_vae_gray_scale_val.pkl')\n",
    "X_test_z, _ = read_latent_vectors('predictions/z_vae_gray_scale_test.pkl')"
   ]
  },
  {
   "cell_type": "code",
   "execution_count": null,
   "metadata": {},
   "outputs": [],
   "source": [
    "model = Generator(\n",
    "    \n",
    ")"
   ]
  }
 ],
 "metadata": {
  "language_info": {
   "name": "python"
  }
 },
 "nbformat": 4,
 "nbformat_minor": 2
}
