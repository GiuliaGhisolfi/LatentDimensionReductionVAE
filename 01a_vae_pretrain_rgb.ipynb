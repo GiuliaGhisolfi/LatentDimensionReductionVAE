{
 "cells": [
  {
   "cell_type": "code",
   "execution_count": null,
   "metadata": {},
   "outputs": [],
   "source": [
    "from src.autoencoders.vae import VariationalAutoEncoder\n",
    "from src.utils.utils import get_training_and_validation_sets, get_test_set, save_latent_vectors"
   ]
  },
  {
   "cell_type": "code",
   "execution_count": 2,
   "metadata": {},
   "outputs": [],
   "source": [
    "X_train, Y_train, cX_train, X_val, Y_val, cX_val = get_training_and_validation_sets()\n",
    "X_test, Y_test, cX_test = get_test_set()"
   ]
  },
  {
   "cell_type": "code",
   "execution_count": 3,
   "metadata": {},
   "outputs": [],
   "source": [
    "vae = VariationalAutoEncoder(\n",
    "        input_dim=[1, 64, 64],\n",
    "        latent_dim=1280,\n",
    "        n_filters=[4, 4],\n",
    "        kernel_size=[32, 16],\n",
    "        stride=[2, 2],\n",
    "        padding=['same', 'same'],\n",
    "        hidden_dims=[2560],\n",
    "        activation='relu',\n",
    "        learning_rate=0.001,\n",
    "        dropout=0.4,\n",
    "        alpha=0.3, # LeakyReLU alpha\n",
    "        loss_function='mse',\n",
    "        patience=10,\n",
    "        metrics=['mse', 'mae'],\n",
    "        save_models=True,\n",
    "        save_path='vae_rgb_1280',\n",
    ")"
   ]
  },
  {
   "cell_type": "code",
   "execution_count": null,
   "metadata": {},
   "outputs": [],
   "source": [
    "vae.train(X_train, X_val, epochs=500, batch_size=128)"
   ]
  },
  {
   "cell_type": "code",
   "execution_count": null,
   "metadata": {},
   "outputs": [],
   "source": [
    "vae.visualize_loss()"
   ]
  },
  {
   "cell_type": "code",
   "execution_count": null,
   "metadata": {},
   "outputs": [],
   "source": [
    "for i in range(10):\n",
    "    vae.visualize_recostruction(X_train[36+i*47])"
   ]
  },
  {
   "cell_type": "code",
   "execution_count": null,
   "metadata": {},
   "outputs": [],
   "source": [
    "X_train_z = vae.compute_latent_vector(X_train)\n",
    "X_val_z = vae.compute_latent_vector(X_val)\n",
    "X_test_z = vae.compute_latent_vector(X_test)"
   ]
  },
  {
   "cell_type": "code",
   "execution_count": null,
   "metadata": {},
   "outputs": [],
   "source": [
    "save_latent_vectors(X_train_z, None, 'predictions/z_vae_rgb_train.pkl')\n",
    "save_latent_vectors(X_val_z, None, 'predictions/z_rgb_scale_val.pkl')\n",
    "save_latent_vectors(X_test_z, None, 'predictions/z_rgb_scale_test.pkl')"
   ]
  },
  {
   "cell_type": "code",
   "execution_count": null,
   "metadata": {},
   "outputs": [],
   "source": [
    "# save history in a file\n",
    "import pickle\n",
    "with open('predictions/history_rgb_scale.pkl', 'wb') as file_pi:\n",
    "    pickle.dump(vae.history, file_pi)"
   ]
  },
  {
   "cell_type": "code",
   "execution_count": null,
   "metadata": {},
   "outputs": [],
   "source": [
    "vae.save()"
   ]
  }
 ],
 "metadata": {
  "kernelspec": {
   "display_name": "base",
   "language": "python",
   "name": "python3"
  },
  "language_info": {
   "codemirror_mode": {
    "name": "ipython",
    "version": 3
   },
   "file_extension": ".py",
   "mimetype": "text/x-python",
   "name": "python",
   "nbconvert_exporter": "python",
   "pygments_lexer": "ipython3",
   "version": "3.10.9"
  }
 },
 "nbformat": 4,
 "nbformat_minor": 2
}
